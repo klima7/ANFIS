{
 "cells": [
  {
   "cell_type": "markdown",
   "source": [
    "## Reloading imports"
   ],
   "metadata": {
    "collapsed": false,
    "pycharm": {
     "name": "#%% md\n"
    }
   }
  },
  {
   "cell_type": "code",
   "execution_count": 68,
   "outputs": [
    {
     "name": "stdout",
     "output_type": "stream",
     "text": [
      "The autoreload extension is already loaded. To reload it, use:\n",
      "  %reload_ext autoreload\n"
     ]
    }
   ],
   "source": [
    "%load_ext autoreload"
   ],
   "metadata": {
    "collapsed": false,
    "pycharm": {
     "name": "#%%\n"
    }
   }
  },
  {
   "cell_type": "code",
   "execution_count": 69,
   "outputs": [],
   "source": [
    "%autoreload"
   ],
   "metadata": {
    "collapsed": false,
    "pycharm": {
     "name": "#%%\n"
    }
   }
  },
  {
   "cell_type": "code",
   "execution_count": 71,
   "outputs": [],
   "source": [
    "from params import FuzzyInputVariable_List_Trapezoids\n",
    "import numpy as np\n",
    "import matplotlib.pyplot as plt\n",
    "from ANFIS import ANFIS\n",
    "import time\n",
    "from sklearn.metrics import accuracy_score\n",
    "from sklearn.model_selection import train_test_split\n",
    "from optimizers.swarm import SwarmOptimizer, Phase\n",
    "from optimizers.default import DefaultOptimizer\n",
    "from optimizers.genetic import GeneticOptimizer, SmallestMaeErrorFitness, MultiPointCrossing, NRandomChangesMutation, RouletteWheelSelection, RankSelection"
   ],
   "metadata": {
    "collapsed": false,
    "pycharm": {
     "name": "#%%\n"
    }
   }
  },
  {
   "cell_type": "markdown",
   "source": [
    "## Util functions"
   ],
   "metadata": {
    "collapsed": false,
    "pycharm": {
     "name": "#%% md\n"
    }
   }
  },
  {
   "cell_type": "code",
   "execution_count": 4,
   "outputs": [],
   "source": [
    "def generate_data(size, plot=False):\n",
    "    x = np.arange(1, size, 0.1)\n",
    "    x,y = np.meshgrid(x, x)\n",
    "\n",
    "    dataX = x.flatten()\n",
    "    dataY = y.flatten()\n",
    "    dataXY = np.column_stack((dataX,dataY))\n",
    "    data_labels = np.round(dataX) * np.round(dataY)\n",
    "    \n",
    "    if plot:\n",
    "        fig = plt.figure(figsize=(7, 7))\n",
    "        ax = fig.add_subplot(111, projection='3d')\n",
    "        rgb = [[1,0,0] if cc else [0,1,0] for cc in data_labels]\n",
    "        ax.scatter(dataX, dataY, data_labels, c=rgb)\n",
    "        plt.show()\n",
    "    \n",
    "    return dataXY, data_labels"
   ],
   "metadata": {
    "collapsed": false,
    "pycharm": {
     "name": "#%%\n"
    }
   }
  },
  {
   "cell_type": "code",
   "execution_count": 5,
   "outputs": [],
   "source": [
    "def test_optimizer(optimizer, size=4):\n",
    "    # prepare data\n",
    "    dataXY, data_labels = generate_data(size)\n",
    "    X_train, X_test, y_train, y_test = train_test_split(dataXY, data_labels, test_size=0.2, random_state=25)\n",
    "\n",
    "    # create anfis\n",
    "    mf1 = [[0.5+i, 0.5, 0.5, 0.5] for i in range(size)]\n",
    "    var_names = [str(i) for i in range(size)]\n",
    "    varX = FuzzyInputVariable_List_Trapezoids(mf1, \"XAxis\", var_names)\n",
    "    varY = FuzzyInputVariable_List_Trapezoids(mf1, \"YAxis\", var_names)\n",
    "    fis = ANFIS([varX, varY], X_train.T, y_train)\n",
    "\n",
    "    # train\n",
    "    start = time.time()\n",
    "    fis.train(optimizer)\n",
    "    elapsed_time = time.time() - start\n",
    "\n",
    "    # evaluate on train data\n",
    "    y_pred = fis.anfis_estimate_labels(fis.premises,fis.op,fis.tsk)\n",
    "    y_pred = np.round(y_pred.flatten())\n",
    "    train_accuracy = accuracy_score(y_train, y_pred)\n",
    "    fis.show_results()\n",
    "\n",
    "    # evaluate on test data\n",
    "    fis.training_data = X_test.T\n",
    "    fis.expected_labels = y_test\n",
    "    y_pred = fis.anfis_estimate_labels(fis.premises,fis.op,fis.tsk)\n",
    "    y_pred = np.round(y_pred.flatten())\n",
    "    test_accuracy = accuracy_score(y_test, y_pred)\n",
    "\n",
    "    # print result\n",
    "    print(f'Train data accuracy: {train_accuracy:.2f}')\n",
    "    print(f'Test data accuracy: {test_accuracy:.2f}')\n",
    "    print(f'Training time: {elapsed_time:.2f}')"
   ],
   "metadata": {
    "collapsed": false,
    "pycharm": {
     "name": "#%%\n"
    }
   }
  },
  {
   "cell_type": "markdown",
   "source": [
    "## Tests"
   ],
   "metadata": {
    "collapsed": false,
    "pycharm": {
     "name": "#%% md\n"
    }
   }
  },
  {
   "cell_type": "code",
   "execution_count": null,
   "outputs": [],
   "source": [
    "optimizer = DefaultOptimizer(learn_operators=False)\n",
    "\n",
    "test_optimizer(optimizer)"
   ],
   "metadata": {
    "collapsed": false,
    "pycharm": {
     "name": "#%%\n"
    }
   }
  },
  {
   "cell_type": "code",
   "execution_count": null,
   "outputs": [],
   "source": [
    "optimizer = GeneticOptimizer(\n",
    "    SmallestMaeErrorFitness(),\n",
    "    MultiPointCrossing(3),\n",
    "    NRandomChangesMutation(2),\n",
    "    RouletteWheelSelection(),\n",
    "    cross_prob=0.7,\n",
    "    mutate_prob=0.1,\n",
    "    n_chromosomes=100,\n",
    "    n_generations=50_000,\n",
    "    n_elite=2,\n",
    "    patience=500,\n",
    "    learn_operators=False\n",
    ")\n",
    "\n",
    "test_optimizer(optimizer)"
   ],
   "metadata": {
    "collapsed": false,
    "pycharm": {
     "name": "#%%\n"
    }
   }
  },
  {
   "cell_type": "code",
   "execution_count": null,
   "outputs": [],
   "source": [
    "optimizer = GeneticOptimizer(\n",
    "    SmallestMaeErrorFitness(),\n",
    "    MultiPointCrossing(4),\n",
    "    NRandomChangesMutation(4),\n",
    "    RouletteWheelSelection(),\n",
    "    cross_prob=0.7,\n",
    "    mutate_prob=0.1,\n",
    "    n_chromosomes=100,\n",
    "    n_generations=40_000,\n",
    "    n_elite=2,\n",
    "    patience=800,\n",
    "    learn_operators=False\n",
    ")\n",
    "\n",
    "test_optimizer(optimizer)"
   ],
   "metadata": {
    "collapsed": false,
    "pycharm": {
     "name": "#%%\n"
    }
   }
  },
  {
   "cell_type": "code",
   "execution_count": null,
   "outputs": [],
   "source": [
    "optimizer = GeneticOptimizer(\n",
    "    SmallestMaeErrorFitness(),\n",
    "    MultiPointCrossing(4),\n",
    "    NRandomChangesMutation(4),\n",
    "    RankSelection(10),\n",
    "    cross_prob=0.7,\n",
    "    mutate_prob=0.1,\n",
    "    n_chromosomes=100,\n",
    "    n_generations=40_000,\n",
    "    n_elite=4,\n",
    "    patience=1000,\n",
    "    learn_operators=False\n",
    ")\n",
    "\n",
    "test_optimizer(optimizer)"
   ],
   "metadata": {
    "collapsed": false,
    "pycharm": {
     "name": "#%%\n"
    }
   }
  },
  {
   "cell_type": "code",
   "execution_count": null,
   "outputs": [],
   "source": [
    "optimizer = GeneticOptimizer(\n",
    "    SmallestMaeErrorFitness(),\n",
    "    MultiPointCrossing(3),\n",
    "    NRandomChangesMutation(2),\n",
    "    RouletteWheelSelection(),\n",
    "    cross_prob=0.7,\n",
    "    mutate_prob=0.1,\n",
    "    n_chromosomes=100,\n",
    "    n_generations=50_000,\n",
    "    n_elite=2,\n",
    "    patience=500,\n",
    "    learn_operators=True\n",
    ")\n",
    "\n",
    "test_optimizer(optimizer)"
   ],
   "metadata": {
    "collapsed": false,
    "pycharm": {
     "name": "#%%\n"
    }
   }
  },
  {
   "cell_type": "code",
   "execution_count": null,
   "outputs": [],
   "source": [
    "optimizer = GeneticOptimizer(\n",
    "    SmallestMaeErrorFitness(),\n",
    "    MultiPointCrossing(3),\n",
    "    NRandomChangesMutation(2),\n",
    "    RouletteWheelSelection(),\n",
    "    cross_prob=0.7,\n",
    "    mutate_prob=0.1,\n",
    "    n_chromosomes=80,\n",
    "    n_generations=15_000,\n",
    "    n_elite=2,\n",
    "    patience=70,\n",
    "    learn_operators=True\n",
    ")\n",
    "\n",
    "test_optimizer(optimizer, size=6)"
   ],
   "metadata": {
    "collapsed": false,
    "pycharm": {
     "name": "#%%\n"
    }
   }
  },
  {
   "cell_type": "code",
   "execution_count": 87,
   "outputs": [],
   "source": [
    "%autoreload"
   ],
   "metadata": {
    "collapsed": false,
    "pycharm": {
     "name": "#%%\n"
    }
   }
  },
  {
   "cell_type": "code",
   "execution_count": 89,
   "outputs": [
    {
     "name": "stderr",
     "output_type": "stream",
     "text": [
      "Evolving: 100%|██████████| 20000/20000 [03:53<00:00, 85.56it/s, v=0.35, value=789.7723] \n"
     ]
    },
    {
     "name": "stdout",
     "output_type": "stream",
     "text": [
      "Optimization finished after 233.75s\n"
     ]
    },
    {
     "data": {
      "text/plain": "<Figure size 432x288 with 1 Axes>",
      "image/png": "[encoded data removed]"
     },
     "metadata": {
      "needs_background": "light"
     },
     "output_type": "display_data"
    },
    {
     "name": "stdout",
     "output_type": "stream",
     "text": [
      "Train data accuracy: 0.27\n",
      "Test data accuracy: 0.23\n",
      "Training time: 233.75\n"
     ]
    }
   ],
   "source": [
    "phases = [\n",
    "    Phase(w=1.0, c1=0, c2=0, phase_iters=5000),\n",
    "    Phase(w=0.8, c1=0.2, c2=0, phase_iters=5000),\n",
    "    Phase(w=0.7, c1=0.25, c2=0.25),\n",
    "]\n",
    "\n",
    "optimizer = SwarmOptimizer(\n",
    "    phases,\n",
    "    n_particles=1000,\n",
    "    v=0.3,\n",
    "    max_iters=20000,\n",
    "    tol=1e-2,\n",
    "    n_tol=900,\n",
    ")\n",
    "\n",
    "test_optimizer(optimizer, size=4)"
   ],
   "metadata": {
    "collapsed": false,
    "pycharm": {
     "name": "#%%\n"
    }
   }
  },
  {
   "cell_type": "code",
   "execution_count": null,
   "outputs": [],
   "source": [],
   "metadata": {
    "collapsed": false,
    "pycharm": {
     "name": "#%%\n"
    }
   }
  },
  {
   "cell_type": "code",
   "execution_count": 9,
   "outputs": [
    {
     "ename": "ValueError",
     "evalue": "operands could not be broadcast together with shapes (100,192) (100,2) ",
     "output_type": "error",
     "traceback": [
      "\u001B[0;31m---------------------------------------------------------------------------\u001B[0m",
      "\u001B[0;31mValueError\u001B[0m                                Traceback (most recent call last)",
      "Input \u001B[0;32mIn [9]\u001B[0m, in \u001B[0;36m<cell line: 3>\u001B[0;34m()\u001B[0m\n\u001B[1;32m      1\u001B[0m optimizer \u001B[38;5;241m=\u001B[39m SwarmOptimizer()\n\u001B[0;32m----> 3\u001B[0m \u001B[43mtest_optimizer\u001B[49m\u001B[43m(\u001B[49m\u001B[43moptimizer\u001B[49m\u001B[43m,\u001B[49m\u001B[43m \u001B[49m\u001B[43msize\u001B[49m\u001B[38;5;241;43m=\u001B[39;49m\u001B[38;5;241;43m6\u001B[39;49m\u001B[43m)\u001B[49m\n",
      "Input \u001B[0;32mIn [5]\u001B[0m, in \u001B[0;36mtest_optimizer\u001B[0;34m(optimizer, size)\u001B[0m\n\u001B[1;32m     13\u001B[0m \u001B[38;5;66;03m# train\u001B[39;00m\n\u001B[1;32m     14\u001B[0m start \u001B[38;5;241m=\u001B[39m time\u001B[38;5;241m.\u001B[39mtime()\n\u001B[0;32m---> 15\u001B[0m \u001B[43mfis\u001B[49m\u001B[38;5;241;43m.\u001B[39;49m\u001B[43mtrain\u001B[49m\u001B[43m(\u001B[49m\u001B[43moptimizer\u001B[49m\u001B[43m)\u001B[49m\n\u001B[1;32m     16\u001B[0m elapsed_time \u001B[38;5;241m=\u001B[39m time\u001B[38;5;241m.\u001B[39mtime() \u001B[38;5;241m-\u001B[39m start\n\u001B[1;32m     18\u001B[0m \u001B[38;5;66;03m# evaluate on train data\u001B[39;00m\n",
      "File \u001B[0;32m~/Library/CloudStorage/OneDrive-PolitechnikaŁódzka/siium/semestr-2/msi/labs/exercises/anfis-genetic/ANFIS.py:119\u001B[0m, in \u001B[0;36mANFIS.train\u001B[0;34m(self, optimiser)\u001B[0m\n\u001B[1;32m    117\u001B[0m \u001B[38;5;28;01mdef\u001B[39;00m \u001B[38;5;21mtrain\u001B[39m(\u001B[38;5;28mself\u001B[39m, optimiser: BaseOptimizer):\n\u001B[1;32m    118\u001B[0m     start \u001B[38;5;241m=\u001B[39m time()\n\u001B[0;32m--> 119\u001B[0m     \u001B[43moptimiser\u001B[49m\u001B[38;5;241;43m.\u001B[39;49m\u001B[43moptimize\u001B[49m\u001B[43m(\u001B[49m\u001B[38;5;28;43mself\u001B[39;49m\u001B[43m)\u001B[49m\n\u001B[1;32m    120\u001B[0m     duration \u001B[38;5;241m=\u001B[39m time() \u001B[38;5;241m-\u001B[39m start\n\u001B[1;32m    121\u001B[0m     \u001B[38;5;28mprint\u001B[39m(\u001B[38;5;124mf\u001B[39m\u001B[38;5;124m'\u001B[39m\u001B[38;5;124mOptimization finished after \u001B[39m\u001B[38;5;132;01m{\u001B[39;00mduration\u001B[38;5;132;01m:\u001B[39;00m\u001B[38;5;124m.2f\u001B[39m\u001B[38;5;132;01m}\u001B[39;00m\u001B[38;5;124ms\u001B[39m\u001B[38;5;124m'\u001B[39m)\n",
      "File \u001B[0;32m~/Library/CloudStorage/OneDrive-PolitechnikaŁódzka/siium/semestr-2/msi/labs/exercises/anfis-genetic/optimizers/swarm/optimizer.py:53\u001B[0m, in \u001B[0;36mSwarmOptimizer.optimize\u001B[0;34m(self, anfis)\u001B[0m\n\u001B[1;32m     51\u001B[0m \u001B[38;5;28mself\u001B[39m\u001B[38;5;241m.\u001B[39m_init_aux_variables(anfis)\n\u001B[1;32m     52\u001B[0m constraints \u001B[38;5;241m=\u001B[39m \u001B[38;5;28mself\u001B[39m\u001B[38;5;241m.\u001B[39m_construct_domain_constraints()\n\u001B[0;32m---> 53\u001B[0m best_particle, _ \u001B[38;5;241m=\u001B[39m \u001B[38;5;28;43mself\u001B[39;49m\u001B[38;5;241;43m.\u001B[39;49m\u001B[43msolver\u001B[49m\u001B[38;5;241;43m.\u001B[39;49m\u001B[43msolve\u001B[49m\u001B[43m(\u001B[49m\u001B[38;5;28;43mself\u001B[39;49m\u001B[38;5;241;43m.\u001B[39;49m\u001B[43m_optimized_function\u001B[49m\u001B[43m,\u001B[49m\u001B[43m \u001B[49m\u001B[43mconstraints\u001B[49m\u001B[43m)\u001B[49m\n",
      "File \u001B[0;32m~/Library/CloudStorage/OneDrive-PolitechnikaŁódzka/siium/semestr-2/msi/labs/exercises/anfis-genetic/optimizers/swarm/solver.py:22\u001B[0m, in \u001B[0;36mPSOSolver.solve\u001B[0;34m(self, fun, domain, callback)\u001B[0m\n\u001B[1;32m     20\u001B[0m \u001B[38;5;66;03m# state variables\u001B[39;00m\n\u001B[1;32m     21\u001B[0m pos \u001B[38;5;241m=\u001B[39m \u001B[38;5;28mself\u001B[39m\u001B[38;5;241m.\u001B[39m_random_positions(domain)                    \u001B[38;5;66;03m# particle positions\u001B[39;00m\n\u001B[0;32m---> 22\u001B[0m vel \u001B[38;5;241m=\u001B[39m \u001B[38;5;28;43mself\u001B[39;49m\u001B[38;5;241;43m.\u001B[39;49m\u001B[43m_random_velocities\u001B[49m\u001B[43m(\u001B[49m\u001B[43mn_dim\u001B[49m\u001B[43m)\u001B[49m                    \u001B[38;5;66;03m# particle velocities\u001B[39;00m\n\u001B[1;32m     23\u001B[0m inv \u001B[38;5;241m=\u001B[39m np\u001B[38;5;241m.\u001B[39mzeros((\u001B[38;5;28mself\u001B[39m\u001B[38;5;241m.\u001B[39mn_particles,), dtype\u001B[38;5;241m=\u001B[39mnp\u001B[38;5;241m.\u001B[39mbool_)     \u001B[38;5;66;03m# invalid particles (outside domain)\u001B[39;00m\n\u001B[1;32m     24\u001B[0m lv \u001B[38;5;241m=\u001B[39m np\u001B[38;5;241m.\u001B[39mrepeat(np\u001B[38;5;241m.\u001B[39minf, \u001B[38;5;28mself\u001B[39m\u001B[38;5;241m.\u001B[39mn_particles)                \u001B[38;5;66;03m# local minimum values\u001B[39;00m\n",
      "File \u001B[0;32m~/Library/CloudStorage/OneDrive-PolitechnikaŁódzka/siium/semestr-2/msi/labs/exercises/anfis-genetic/optimizers/swarm/solver.py:61\u001B[0m, in \u001B[0;36mPSOSolver._random_velocities\u001B[0;34m(self, n_dims)\u001B[0m\n\u001B[1;32m     59\u001B[0m scale_factors \u001B[38;5;241m=\u001B[39m \u001B[38;5;28mself\u001B[39m\u001B[38;5;241m.\u001B[39mv \u001B[38;5;241m/\u001B[39m lengths\n\u001B[1;32m     60\u001B[0m scale_factors_transformed \u001B[38;5;241m=\u001B[39m np\u001B[38;5;241m.\u001B[39mrepeat(np\u001B[38;5;241m.\u001B[39mexpand_dims(scale_factors, axis\u001B[38;5;241m=\u001B[39m\u001B[38;5;241m1\u001B[39m), \u001B[38;5;241m2\u001B[39m, axis\u001B[38;5;241m=\u001B[39m\u001B[38;5;241m1\u001B[39m)\n\u001B[0;32m---> 61\u001B[0m scaled_directions \u001B[38;5;241m=\u001B[39m \u001B[43mdirections\u001B[49m\u001B[43m \u001B[49m\u001B[38;5;241;43m*\u001B[39;49m\u001B[43m \u001B[49m\u001B[43mscale_factors_transformed\u001B[49m\n\u001B[1;32m     62\u001B[0m \u001B[38;5;28;01mreturn\u001B[39;00m scaled_directions\n",
      "\u001B[0;31mValueError\u001B[0m: operands could not be broadcast together with shapes (100,192) (100,2) "
     ]
    }
   ],
   "source": [
    "optimizer = SwarmOptimizer()\n",
    "\n",
    "test_optimizer(optimizer, size=6)"
   ],
   "metadata": {
    "collapsed": false,
    "pycharm": {
     "name": "#%%\n"
    }
   }
  },
  {
   "cell_type": "code",
   "execution_count": null,
   "outputs": [],
   "source": [],
   "metadata": {
    "collapsed": false,
    "pycharm": {
     "name": "#%%\n"
    }
   }
  }
 ],
 "metadata": {
  "kernelspec": {
   "display_name": "Python 3.8.9 64-bit",
   "language": "python",
   "name": "python3"
  },
  "language_info": {
   "codemirror_mode": {
    "name": "ipython",
    "version": 3
   },
   "file_extension": ".py",
   "mimetype": "text/x-python",
   "name": "python",
   "nbconvert_exporter": "python",
   "pygments_lexer": "ipython3",
   "version": "3.8.9"
  },
  "vscode": {
   "interpreter": {
    "hash": "31f2aee4e71d21fbe5cf8b01ff0e069b9275f58929596ceb00d14d90e3e16cd6"
   }
  }
 },
 "nbformat": 4,
 "nbformat_minor": 2
}