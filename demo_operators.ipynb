{
 "cells": [
  {
   "cell_type": "markdown",
   "source": [
    "## Imports"
   ],
   "metadata": {
    "collapsed": false,
    "pycharm": {
     "name": "#%% md\n"
    }
   }
  },
  {
   "cell_type": "code",
   "execution_count": 1,
   "metadata": {
    "collapsed": true,
    "pycharm": {
     "name": "#%%\n"
    }
   },
   "outputs": [],
   "source": [
    "from params import FuzzyInputVariable_List_Trapezoids\n",
    "import numpy as np\n",
    "import matplotlib.pyplot as plt\n",
    "from ANFIS import ANFIS\n",
    "import time\n",
    "from sklearn.metrics import accuracy_score\n",
    "from sklearn.model_selection import train_test_split\n",
    "from optimizers.swarm import SwarmOptimizer, Phase\n",
    "from optimizers.default import DefaultOptimizer\n",
    "from optimizers.genetic import GeneticOptimizer, SmallestMaeErrorFitness, MultiPointCrossing, NRandomChangesMutation, RouletteWheelSelection, RankSelection"
   ]
  },
  {
   "cell_type": "markdown",
   "source": [
    "## Reloading imports"
   ],
   "metadata": {
    "collapsed": false,
    "pycharm": {
     "name": "#%% md\n"
    }
   }
  },
  {
   "cell_type": "code",
   "execution_count": 2,
   "outputs": [],
   "source": [
    "%load_ext autoreload"
   ],
   "metadata": {
    "collapsed": false,
    "pycharm": {
     "name": "#%%\n"
    }
   }
  },
  {
   "cell_type": "code",
   "execution_count": 3,
   "outputs": [],
   "source": [
    "%autoreload"
   ],
   "metadata": {
    "collapsed": false,
    "pycharm": {
     "name": "#%%\n"
    }
   }
  },
  {
   "cell_type": "markdown",
   "source": [
    "## Generating data"
   ],
   "metadata": {
    "collapsed": false,
    "pycharm": {
     "name": "#%% md\n"
    }
   }
  },
  {
   "cell_type": "code",
   "execution_count": 7,
   "outputs": [],
   "source": [
    "def f(x, y, z):\n",
    "        return x*y + x*z + y*z"
   ],
   "metadata": {
    "collapsed": false,
    "pycharm": {
     "name": "#%%\n"
    }
   }
  },
  {
   "cell_type": "code",
   "execution_count": 8,
   "outputs": [],
   "source": [
    "def generate_data(domain, step=0.1):\n",
    "    var = np.arange(domain[0], domain[1], step)\n",
    "    x, y, z = np.meshgrid(var, var, var)\n",
    "\n",
    "    x = x.flatten()\n",
    "    y = y.flatten()\n",
    "    z = z.flatten()\n",
    "\n",
    "    labels = np.round(x) * np.round(y) * np.round(z)\n",
    "    data = np.column_stack((x, y, z))\n",
    "\n",
    "    return data, labels"
   ],
   "metadata": {
    "collapsed": false,
    "pycharm": {
     "name": "#%%\n"
    }
   }
  },
  {
   "cell_type": "code",
   "execution_count": 12,
   "outputs": [],
   "source": [
    "data_xyz, labels = generate_data(domain=(0, 1), step=0.5)"
   ],
   "metadata": {
    "collapsed": false,
    "pycharm": {
     "name": "#%%\n"
    }
   }
  },
  {
   "cell_type": "markdown",
   "source": [
    "## Creating ANFIS"
   ],
   "metadata": {
    "collapsed": false,
    "pycharm": {
     "name": "#%% md\n"
    }
   }
  },
  {
   "cell_type": "code",
   "execution_count": 19,
   "outputs": [],
   "source": [
    "# create anfis\n",
    "mf1 = [[0.25+i*0.5, 0.5, 0.5, 0.5] for i in range(2)]\n",
    "var_names = [str(i) for i in range(2)]\n",
    "\n",
    "varX = FuzzyInputVariable_List_Trapezoids(mf1, \"XAxis\", var_names)\n",
    "varY = FuzzyInputVariable_List_Trapezoids(mf1, \"YAxis\", var_names)\n",
    "varZ = FuzzyInputVariable_List_Trapezoids(mf1, \"YAxis\", var_names)\n",
    "\n",
    "anfis = ANFIS([varX, varY, varZ], data_xyz.T, labels)"
   ],
   "metadata": {
    "collapsed": false,
    "pycharm": {
     "name": "#%%\n"
    }
   }
  },
  {
   "cell_type": "markdown",
   "source": [
    "## Training"
   ],
   "metadata": {
    "collapsed": false,
    "pycharm": {
     "name": "#%% md\n"
    }
   }
  },
  {
   "cell_type": "code",
   "execution_count": 14,
   "outputs": [
    {
     "name": "stdout",
     "output_type": "stream",
     "text": [
      "Optimization finished after 2.49s\n",
      "Training time: 2.49\n"
     ]
    }
   ],
   "source": [
    "optimizer = DefaultOptimizer(learn_operators=False)\n",
    "\n",
    "start = time.time()\n",
    "anfis.train(optimizer)\n",
    "elapsed_time = time.time() - start\n",
    "\n",
    "print(f'Training time: {elapsed_time:.2f}')"
   ],
   "metadata": {
    "collapsed": false,
    "pycharm": {
     "name": "#%%\n"
    }
   }
  },
  {
   "cell_type": "markdown",
   "source": [
    "## Evaluation"
   ],
   "metadata": {
    "collapsed": false,
    "pycharm": {
     "name": "#%% md\n"
    }
   }
  },
  {
   "cell_type": "code",
   "execution_count": 20,
   "outputs": [
    {
     "name": "stdout",
     "output_type": "stream",
     "text": [
      "MAE Error: 7.89\n"
     ]
    }
   ],
   "source": [
    "# evaluate\n",
    "y_pred = anfis.estimate_labels().flatten()\n",
    "error = np.sum(np.abs(y_pred - labels))\n",
    "print(f'MAE Error: {error:.2f}')"
   ],
   "metadata": {
    "collapsed": false,
    "pycharm": {
     "name": "#%%\n"
    }
   }
  }
 ],
 "metadata": {
  "kernelspec": {
   "display_name": "Python 3",
   "language": "python",
   "name": "python3"
  },
  "language_info": {
   "codemirror_mode": {
    "name": "ipython",
    "version": 2
   },
   "file_extension": ".py",
   "mimetype": "text/x-python",
   "name": "python",
   "nbconvert_exporter": "python",
   "pygments_lexer": "ipython2",
   "version": "2.7.6"
  }
 },
 "nbformat": 4,
 "nbformat_minor": 0
}